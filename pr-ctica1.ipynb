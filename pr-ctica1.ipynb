{
 "cells": [
  {
   "cell_type": "markdown",
   "id": "af227367",
   "metadata": {
    "id": "XnldHTOt-QZx",
    "papermill": {
     "duration": 0.008124,
     "end_time": "2023-11-08T18:50:05.372840",
     "exception": false,
     "start_time": "2023-11-08T18:50:05.364716",
     "status": "completed"
    },
    "tags": []
   },
   "source": [
    "# Práctica 1 #\n",
    "\n",
    "Miembros del grupo de prácticas:\n",
    "- Pavlo Rudak\n",
    "- Sara Isabel Maza Celdrán\n",
    "- Guillermo Moro Orozco"
   ]
  },
  {
   "cell_type": "markdown",
   "id": "84c424e8",
   "metadata": {
    "id": "kjQsenT0_LwN",
    "papermill": {
     "duration": 0.007139,
     "end_time": "2023-11-08T18:50:05.387652",
     "exception": false,
     "start_time": "2023-11-08T18:50:05.380513",
     "status": "completed"
    },
    "tags": []
   },
   "source": [
    "## Imports ##"
   ]
  },
  {
   "cell_type": "code",
   "execution_count": 1,
   "id": "5cf9dbd6",
   "metadata": {
    "execution": {
     "iopub.execute_input": "2023-11-08T18:50:05.404742Z",
     "iopub.status.busy": "2023-11-08T18:50:05.404059Z",
     "iopub.status.idle": "2023-11-08T18:50:07.080500Z",
     "shell.execute_reply": "2023-11-08T18:50:07.079196Z"
    },
    "id": "shcOA91t_LmV",
    "papermill": {
     "duration": 1.68781,
     "end_time": "2023-11-08T18:50:07.083018",
     "exception": false,
     "start_time": "2023-11-08T18:50:05.395208",
     "status": "completed"
    },
    "tags": []
   },
   "outputs": [
    {
     "name": "stdout",
     "output_type": "stream",
     "text": [
      "Numpy version: 1.23.5\n",
      "Pandas version: 2.0.3\n",
      "MatPlotLib version: 3.7.2\n",
      "Scikit-Learn version: 1.2.2\n",
      "MatPlotLib version: 3.7.2\n"
     ]
    }
   ],
   "source": [
    "import os\n",
    "import math\n",
    "import numpy as np; print(f'Numpy version: {np.__version__}')\n",
    "import pandas as pd; print(f'Pandas version: {pd.__version__}')\n",
    "import matplotlib as mpl; print(f'MatPlotLib version: {mpl.__version__}')\n",
    "import sklearn as sk; print(f'Scikit-Learn version: {sk.__version__}')\n",
    "import tqdm as tq\n",
    "import matplotlib as mpl; print(f'MatPlotLib version: {mpl.__version__}')\n"
   ]
  },
  {
   "cell_type": "markdown",
   "id": "3c74c60d",
   "metadata": {
    "id": "G9r5KHyUM9r-",
    "papermill": {
     "duration": 0.007585,
     "end_time": "2023-11-08T18:50:07.099274",
     "exception": false,
     "start_time": "2023-11-08T18:50:07.091689",
     "status": "completed"
    },
    "tags": []
   },
   "source": [
    "## Data ##"
   ]
  },
  {
   "cell_type": "markdown",
   "id": "3fd70af1",
   "metadata": {
    "id": "OJDn_AZsNGTO",
    "papermill": {
     "duration": 0.007641,
     "end_time": "2023-11-08T18:50:07.114804",
     "exception": false,
     "start_time": "2023-11-08T18:50:07.107163",
     "status": "completed"
    },
    "tags": []
   },
   "source": [
    "### Read dataset ###"
   ]
  },
  {
   "cell_type": "code",
   "execution_count": 2,
   "id": "2ebb6541",
   "metadata": {
    "execution": {
     "iopub.execute_input": "2023-11-08T18:50:07.132378Z",
     "iopub.status.busy": "2023-11-08T18:50:07.131769Z",
     "iopub.status.idle": "2023-11-08T18:50:07.193703Z",
     "shell.execute_reply": "2023-11-08T18:50:07.192357Z"
    },
    "id": "uAqEWZJ_NGGu",
    "papermill": {
     "duration": 0.07343,
     "end_time": "2023-11-08T18:50:07.196043",
     "exception": false,
     "start_time": "2023-11-08T18:50:07.122613",
     "status": "completed"
    },
    "tags": []
   },
   "outputs": [
    {
     "name": "stdout",
     "output_type": "stream",
     "text": [
      "<class 'pandas.core.frame.DataFrame'>\n",
      "RangeIndex: 395 entries, 0 to 394\n",
      "Data columns (total 33 columns):\n",
      " #   Column      Non-Null Count  Dtype \n",
      "---  ------      --------------  ----- \n",
      " 0   school      395 non-null    object\n",
      " 1   sex         395 non-null    object\n",
      " 2   age         395 non-null    int64 \n",
      " 3   address     395 non-null    object\n",
      " 4   famsize     395 non-null    object\n",
      " 5   Pstatus     395 non-null    object\n",
      " 6   Medu        395 non-null    int64 \n",
      " 7   Fedu        395 non-null    int64 \n",
      " 8   Mjob        395 non-null    object\n",
      " 9   Fjob        395 non-null    object\n",
      " 10  reason      395 non-null    object\n",
      " 11  guardian    395 non-null    object\n",
      " 12  traveltime  395 non-null    int64 \n",
      " 13  studytime   395 non-null    int64 \n",
      " 14  failures    395 non-null    int64 \n",
      " 15  schoolsup   395 non-null    object\n",
      " 16  famsup      395 non-null    object\n",
      " 17  paid        395 non-null    object\n",
      " 18  activities  395 non-null    object\n",
      " 19  nursery     395 non-null    object\n",
      " 20  higher      395 non-null    object\n",
      " 21  internet    395 non-null    object\n",
      " 22  romantic    395 non-null    object\n",
      " 23  famrel      395 non-null    int64 \n",
      " 24  freetime    395 non-null    int64 \n",
      " 25  goout       395 non-null    int64 \n",
      " 26  Dalc        395 non-null    int64 \n",
      " 27  Walc        395 non-null    int64 \n",
      " 28  health      395 non-null    int64 \n",
      " 29  absences    395 non-null    int64 \n",
      " 30  G1          395 non-null    int64 \n",
      " 31  G2          395 non-null    int64 \n",
      " 32  G3          395 non-null    int64 \n",
      "dtypes: int64(16), object(17)\n",
      "memory usage: 102.0+ KB\n",
      "None\n"
     ]
    }
   ],
   "source": [
    "student_mat = \"/kaggle/input/student-mat/student-mat.csv\"\n",
    "\n",
    "#Read a dataset\n",
    "data = pd.read_csv(student_mat, sep =';', decimal='.')\n",
    "\n",
    "#Print dataset info\n",
    "print(data.info())"
   ]
  },
  {
   "cell_type": "markdown",
   "id": "0d652570",
   "metadata": {
    "id": "e9EqOajt-bWJ",
    "papermill": {
     "duration": 0.007751,
     "end_time": "2023-11-08T18:50:07.212433",
     "exception": false,
     "start_time": "2023-11-08T18:50:07.204682",
     "status": "completed"
    },
    "tags": []
   },
   "source": [
    "### Exploratory Data Analysis (EDA) ###"
   ]
  },
  {
   "cell_type": "code",
   "execution_count": 3,
   "id": "4cdb95aa",
   "metadata": {
    "execution": {
     "iopub.execute_input": "2023-11-08T18:50:07.230725Z",
     "iopub.status.busy": "2023-11-08T18:50:07.229956Z",
     "iopub.status.idle": "2023-11-08T18:50:07.253372Z",
     "shell.execute_reply": "2023-11-08T18:50:07.252149Z"
    },
    "papermill": {
     "duration": 0.036198,
     "end_time": "2023-11-08T18:50:07.256655",
     "exception": false,
     "start_time": "2023-11-08T18:50:07.220457",
     "status": "completed"
    },
    "tags": []
   },
   "outputs": [
    {
     "name": "stdout",
     "output_type": "stream",
     "text": [
      "<class 'pandas.core.frame.DataFrame'>\n",
      "RangeIndex: 395 entries, 0 to 394\n",
      "Data columns (total 33 columns):\n",
      " #   Column      Non-Null Count  Dtype   \n",
      "---  ------      --------------  -----   \n",
      " 0   school      395 non-null    category\n",
      " 1   sex         395 non-null    category\n",
      " 2   age         395 non-null    int64   \n",
      " 3   address     395 non-null    category\n",
      " 4   famsize     395 non-null    category\n",
      " 5   Pstatus     395 non-null    object  \n",
      " 6   Medu        395 non-null    int64   \n",
      " 7   Fedu        395 non-null    int64   \n",
      " 8   Mjob        395 non-null    object  \n",
      " 9   Fjob        395 non-null    object  \n",
      " 10  reason      395 non-null    object  \n",
      " 11  guardian    395 non-null    object  \n",
      " 12  traveltime  395 non-null    int64   \n",
      " 13  studytime   395 non-null    int64   \n",
      " 14  failures    395 non-null    int64   \n",
      " 15  schoolsup   395 non-null    object  \n",
      " 16  famsup      395 non-null    object  \n",
      " 17  paid        395 non-null    object  \n",
      " 18  activities  395 non-null    object  \n",
      " 19  nursery     395 non-null    object  \n",
      " 20  higher      395 non-null    object  \n",
      " 21  internet    395 non-null    object  \n",
      " 22  romantic    395 non-null    object  \n",
      " 23  famrel      395 non-null    int64   \n",
      " 24  freetime    395 non-null    int64   \n",
      " 25  goout       395 non-null    int64   \n",
      " 26  Dalc        395 non-null    int64   \n",
      " 27  Walc        395 non-null    int64   \n",
      " 28  health      395 non-null    int64   \n",
      " 29  absences    395 non-null    int64   \n",
      " 30  G1          395 non-null    int64   \n",
      " 31  G2          395 non-null    int64   \n",
      " 32  G3          395 non-null    int64   \n",
      "dtypes: category(4), int64(16), object(13)\n",
      "memory usage: 91.6+ KB\n",
      "None\n"
     ]
    }
   ],
   "source": [
    "# Pre-process the data\n",
    "data['school'] = data['school'].astype('category')\n",
    "data['sex'] = data['sex'].astype('category')\n",
    "data['address'] = data['address'].astype('category')\n",
    "data['famsize'] = data['famsize'].astype('category')\n",
    "\n",
    "\n",
    "\n",
    "\n",
    "# Print dataset information\n",
    "\n",
    "print(data.info())"
   ]
  },
  {
   "cell_type": "markdown",
   "id": "1c61c6fe",
   "metadata": {
    "id": "q30iRdUHNJet",
    "papermill": {
     "duration": 0.007888,
     "end_time": "2023-11-08T18:50:07.272817",
     "exception": false,
     "start_time": "2023-11-08T18:50:07.264929",
     "status": "completed"
    },
    "tags": []
   },
   "source": [
    "### Data pre-processing ###"
   ]
  },
  {
   "cell_type": "code",
   "execution_count": 4,
   "id": "10ad89a8",
   "metadata": {
    "execution": {
     "iopub.execute_input": "2023-11-08T18:50:07.292156Z",
     "iopub.status.busy": "2023-11-08T18:50:07.291425Z",
     "iopub.status.idle": "2023-11-08T18:50:07.309444Z",
     "shell.execute_reply": "2023-11-08T18:50:07.308087Z"
    },
    "id": "4wQkz7aJNOXj",
    "papermill": {
     "duration": 0.030802,
     "end_time": "2023-11-08T18:50:07.311937",
     "exception": false,
     "start_time": "2023-11-08T18:50:07.281135",
     "status": "completed"
    },
    "tags": []
   },
   "outputs": [
    {
     "name": "stdout",
     "output_type": "stream",
     "text": [
      "    school sex address famsize\n",
      "0       GP   F       U     GT3\n",
      "1       GP   F       U     GT3\n",
      "2       GP   F       U     LE3\n",
      "3       GP   F       U     GT3\n",
      "4       GP   F       U     GT3\n",
      "..     ...  ..     ...     ...\n",
      "390     MS   M       U     LE3\n",
      "391     MS   M       U     LE3\n",
      "392     MS   M       R     GT3\n",
      "393     MS   M       R     LE3\n",
      "394     MS   M       U     LE3\n",
      "\n",
      "[395 rows x 4 columns]\n",
      "(395, 4)\n"
     ]
    }
   ],
   "source": [
    "categorical_variables = data.select_dtypes(include='category')\n",
    "print(categorical_variables)\n",
    "print(categorical_variables.shape)"
   ]
  },
  {
   "cell_type": "markdown",
   "id": "f21196d5",
   "metadata": {
    "id": "Cj60flafNupT",
    "papermill": {
     "duration": 0.008295,
     "end_time": "2023-11-08T18:50:07.328564",
     "exception": false,
     "start_time": "2023-11-08T18:50:07.320269",
     "status": "completed"
    },
    "tags": []
   },
   "source": [
    "### Save cleaned dataset ###"
   ]
  },
  {
   "cell_type": "code",
   "execution_count": null,
   "id": "80860d4a",
   "metadata": {
    "id": "jIi9nj3qNuez",
    "papermill": {
     "duration": 0.008075,
     "end_time": "2023-11-08T18:50:07.345045",
     "exception": false,
     "start_time": "2023-11-08T18:50:07.336970",
     "status": "completed"
    },
    "tags": []
   },
   "outputs": [],
   "source": []
  },
  {
   "cell_type": "markdown",
   "id": "3029ecc4",
   "metadata": {
    "id": "zzSig4FL-jTg",
    "papermill": {
     "duration": 0.008154,
     "end_time": "2023-11-08T18:50:07.361604",
     "exception": false,
     "start_time": "2023-11-08T18:50:07.353450",
     "status": "completed"
    },
    "tags": []
   },
   "source": [
    "## Artificial Intelligence (AI) ##"
   ]
  },
  {
   "cell_type": "markdown",
   "id": "28fa3273",
   "metadata": {
    "id": "mIAOc4iQ-pkf",
    "papermill": {
     "duration": 0.008068,
     "end_time": "2023-11-08T18:50:07.377988",
     "exception": false,
     "start_time": "2023-11-08T18:50:07.369920",
     "status": "completed"
    },
    "tags": []
   },
   "source": [
    "### Machine Learning (ML) ###"
   ]
  },
  {
   "cell_type": "markdown",
   "id": "18749a9a",
   "metadata": {
    "id": "SxdIablC-5Ou",
    "papermill": {
     "duration": 0.00828,
     "end_time": "2023-11-08T18:50:07.394527",
     "exception": false,
     "start_time": "2023-11-08T18:50:07.386247",
     "status": "completed"
    },
    "tags": []
   },
   "source": [
    "#### Model ####"
   ]
  },
  {
   "cell_type": "code",
   "execution_count": null,
   "id": "c5ddb619",
   "metadata": {
    "id": "JHqLkGkx-wk3",
    "papermill": {
     "duration": 0.008127,
     "end_time": "2023-11-08T18:50:07.411070",
     "exception": false,
     "start_time": "2023-11-08T18:50:07.402943",
     "status": "completed"
    },
    "tags": []
   },
   "outputs": [],
   "source": []
  },
  {
   "cell_type": "markdown",
   "id": "8467aba8",
   "metadata": {
    "id": "y-eemAJJ--Te",
    "papermill": {
     "duration": 0.008084,
     "end_time": "2023-11-08T18:50:07.427448",
     "exception": false,
     "start_time": "2023-11-08T18:50:07.419364",
     "status": "completed"
    },
    "tags": []
   },
   "source": [
    "#### Evaluation ####"
   ]
  },
  {
   "cell_type": "code",
   "execution_count": null,
   "id": "070a53a0",
   "metadata": {
    "id": "env96TSr--Je",
    "papermill": {
     "duration": 0.008206,
     "end_time": "2023-11-08T18:50:07.444127",
     "exception": false,
     "start_time": "2023-11-08T18:50:07.435921",
     "status": "completed"
    },
    "tags": []
   },
   "outputs": [],
   "source": []
  },
  {
   "cell_type": "markdown",
   "id": "726a6247",
   "metadata": {
    "id": "GZM_rJAF_A0G",
    "papermill": {
     "duration": 0.008755,
     "end_time": "2023-11-08T18:50:07.461361",
     "exception": false,
     "start_time": "2023-11-08T18:50:07.452606",
     "status": "completed"
    },
    "tags": []
   },
   "source": [
    "#### Hyperparametrization ####"
   ]
  },
  {
   "cell_type": "code",
   "execution_count": null,
   "id": "b4e0b362",
   "metadata": {
    "id": "RVs76KLn_AnO",
    "papermill": {
     "duration": 0.008046,
     "end_time": "2023-11-08T18:50:07.478280",
     "exception": false,
     "start_time": "2023-11-08T18:50:07.470234",
     "status": "completed"
    },
    "tags": []
   },
   "outputs": [],
   "source": []
  },
  {
   "cell_type": "markdown",
   "id": "674f1353",
   "metadata": {
    "id": "1gN0KOX8-oRQ",
    "papermill": {
     "duration": 0.008231,
     "end_time": "2023-11-08T18:50:07.495259",
     "exception": false,
     "start_time": "2023-11-08T18:50:07.487028",
     "status": "completed"
    },
    "tags": []
   },
   "source": [
    "### Deep Learning (DL) ###"
   ]
  },
  {
   "cell_type": "markdown",
   "id": "82b55909",
   "metadata": {
    "id": "BYNRZBxB_DnO",
    "papermill": {
     "duration": 0.008489,
     "end_time": "2023-11-08T18:50:07.512244",
     "exception": false,
     "start_time": "2023-11-08T18:50:07.503755",
     "status": "completed"
    },
    "tags": []
   },
   "source": [
    "#### Model ####"
   ]
  },
  {
   "cell_type": "code",
   "execution_count": null,
   "id": "f9a5b092",
   "metadata": {
    "id": "pCPwjdWA-vTH",
    "papermill": {
     "duration": 0.008287,
     "end_time": "2023-11-08T18:50:07.529448",
     "exception": false,
     "start_time": "2023-11-08T18:50:07.521161",
     "status": "completed"
    },
    "tags": []
   },
   "outputs": [],
   "source": []
  },
  {
   "cell_type": "markdown",
   "id": "5a9d846a",
   "metadata": {
    "id": "kmkMjBI4_E5u",
    "papermill": {
     "duration": 0.008017,
     "end_time": "2023-11-08T18:50:07.545930",
     "exception": false,
     "start_time": "2023-11-08T18:50:07.537913",
     "status": "completed"
    },
    "tags": []
   },
   "source": [
    "#### Evaluation ####"
   ]
  },
  {
   "cell_type": "code",
   "execution_count": null,
   "id": "84e28588",
   "metadata": {
    "id": "4kw1n0MA_EvW",
    "papermill": {
     "duration": 0.008196,
     "end_time": "2023-11-08T18:50:07.562524",
     "exception": false,
     "start_time": "2023-11-08T18:50:07.554328",
     "status": "completed"
    },
    "tags": []
   },
   "outputs": [],
   "source": []
  },
  {
   "cell_type": "markdown",
   "id": "b5c97e3b",
   "metadata": {
    "id": "fkIcouNu_HWn",
    "papermill": {
     "duration": 0.008038,
     "end_time": "2023-11-08T18:50:07.578942",
     "exception": false,
     "start_time": "2023-11-08T18:50:07.570904",
     "status": "completed"
    },
    "tags": []
   },
   "source": [
    "#### Hyperparametrization ####"
   ]
  },
  {
   "cell_type": "code",
   "execution_count": null,
   "id": "ae007aa7",
   "metadata": {
    "id": "w1wwiwei_HON",
    "papermill": {
     "duration": 0.008281,
     "end_time": "2023-11-08T18:50:07.595695",
     "exception": false,
     "start_time": "2023-11-08T18:50:07.587414",
     "status": "completed"
    },
    "tags": []
   },
   "outputs": [],
   "source": []
  },
  {
   "cell_type": "markdown",
   "id": "5c7bf01e",
   "metadata": {
    "id": "6EwrZUi0_Zes",
    "papermill": {
     "duration": 0.008084,
     "end_time": "2023-11-08T18:50:07.612324",
     "exception": false,
     "start_time": "2023-11-08T18:50:07.604240",
     "status": "completed"
    },
    "tags": []
   },
   "source": [
    "### Comparison between ML - DL ###"
   ]
  },
  {
   "cell_type": "code",
   "execution_count": null,
   "id": "8ea317eb",
   "metadata": {
    "id": "U2D19VVY_ZQ8",
    "papermill": {
     "duration": 0.008139,
     "end_time": "2023-11-08T18:50:07.628841",
     "exception": false,
     "start_time": "2023-11-08T18:50:07.620702",
     "status": "completed"
    },
    "tags": []
   },
   "outputs": [],
   "source": []
  }
 ],
 "metadata": {
  "kernelspec": {
   "display_name": "Python 3",
   "language": "python",
   "name": "python3"
  },
  "language_info": {
   "codemirror_mode": {
    "name": "ipython",
    "version": 3
   },
   "file_extension": ".py",
   "mimetype": "text/x-python",
   "name": "python",
   "nbconvert_exporter": "python",
   "pygments_lexer": "ipython3",
   "version": "3.10.12"
  },
  "papermill": {
   "default_parameters": {},
   "duration": 6.613339,
   "end_time": "2023-11-08T18:50:08.259734",
   "environment_variables": {},
   "exception": null,
   "input_path": "__notebook__.ipynb",
   "output_path": "__notebook__.ipynb",
   "parameters": {},
   "start_time": "2023-11-08T18:50:01.646395",
   "version": "2.4.0"
  }
 },
 "nbformat": 4,
 "nbformat_minor": 5
}
